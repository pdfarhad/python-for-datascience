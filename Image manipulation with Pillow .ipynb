{
 "cells": [
  {
   "cell_type": "code",
   "execution_count": 4,
   "metadata": {
    "collapsed": false
   },
   "outputs": [
    {
     "name": "stdout",
     "output_type": "stream",
     "text": [
      "3.5.2 |Anaconda 4.2.0 (x86_64)| (default, Jul  2 2016, 17:52:12) \n",
      "[GCC 4.2.1 Compatible Apple LLVM 4.2 (clang-425.0.28)]\n"
     ]
    }
   ],
   "source": [
    "import sys\n",
    "from PIL import Image\n",
    "print(sys.version)"
   ]
  },
  {
   "cell_type": "code",
   "execution_count": 5,
   "metadata": {
    "collapsed": false
   },
   "outputs": [],
   "source": [
    "ballons = Image.open('../dataset/ballons.jpg')\n",
    "cat = Image.open('../dataset/cat.jpg')\n",
    "\n",
    "ballons.show()\n",
    "cat.show()\n"
   ]
  },
  {
   "cell_type": "markdown",
   "metadata": {},
   "source": [
    "### Common terms and methods\n",
    "\n",
    "    Image - Class for accessing images.\n",
    "\n",
    "    .open(path) - Open an image for manipulation\n",
    "\n",
    "    .rotate(angle, resample=0, expand=0) - Rotate an image by angle degrees. If you set expand to True, the resulting image will be big enough to view the entire original image.\n",
    "\n",
    "    .resize(size, resample=0) - Resize an image to the width and height specified in a tuple like (500, 500).\n",
    "\n",
    "    .thumbnail(size, resample=1) - Resize an image so it fits within the width and height provided in the size tuple. thumbnail changes the Image instance and doesn't return a new image.\n",
    "\n",
    "    .copy() - Copies the image to a new variable.\n",
    "\n",
    "    .crop(box=None) - Cuts out the specified box from the image. The box is a tuple of four numbers in the following format: (left, top, right, bottom).\n",
    "\n",
    "    .save(file, format=None, **params) - Save the Image to a new or existing file name or file object. format lets you override the format of the image.\n",
    "\n",
    "    .paste(image, box=None, mode=None) - Pastes an Image into another Image. The pasted region must fit totally within the bounds of the pasted-into Image. It'll be placed into the provided box.\n",
    "\n",
    "    .transpose(method) - Let's you apply some preset rotations and reflections to images.\n"
   ]
  },
  {
   "cell_type": "markdown",
   "metadata": {},
   "source": [
    "To Rotate the image, we can use Rotate function of the Pillow"
   ]
  },
  {
   "cell_type": "code",
   "execution_count": 7,
   "metadata": {
    "collapsed": false
   },
   "outputs": [],
   "source": [
    "ballons.rotate(45).show()"
   ]
  },
  {
   "cell_type": "markdown",
   "metadata": {},
   "source": [
    "Get the size,mod of the image"
   ]
  },
  {
   "cell_type": "code",
   "execution_count": 8,
   "metadata": {
    "collapsed": false
   },
   "outputs": [
    {
     "data": {
      "text/plain": [
       "(2400, 1600)"
      ]
     },
     "execution_count": 8,
     "metadata": {},
     "output_type": "execute_result"
    }
   ],
   "source": [
    "cat.size"
   ]
  },
  {
   "cell_type": "code",
   "execution_count": 9,
   "metadata": {
    "collapsed": false
   },
   "outputs": [
    {
     "data": {
      "text/plain": [
       "'RGB'"
      ]
     },
     "execution_count": 9,
     "metadata": {},
     "output_type": "execute_result"
    }
   ],
   "source": [
    "cat.mode"
   ]
  },
  {
   "cell_type": "markdown",
   "metadata": {},
   "source": [
    "TO convert the mode of the image"
   ]
  },
  {
   "cell_type": "code",
   "execution_count": 10,
   "metadata": {
    "collapsed": true
   },
   "outputs": [],
   "source": [
    "cat.convert(mode='L').show()"
   ]
  },
  {
   "cell_type": "markdown",
   "metadata": {},
   "source": [
    "To resize the image "
   ]
  },
  {
   "cell_type": "code",
   "execution_count": 13,
   "metadata": {
    "collapsed": false
   },
   "outputs": [],
   "source": [
    "cat.resize((cat.width//2,cat.height//2)).show()"
   ]
  },
  {
   "cell_type": "markdown",
   "metadata": {},
   "source": [
    "SO, if we want to make a thumbnail out of the image"
   ]
  },
  {
   "cell_type": "code",
   "execution_count": 15,
   "metadata": {
    "collapsed": true
   },
   "outputs": [],
   "source": [
    "b2 = ballons.copy()\n",
    "b2.thumbnail((50,50))\n",
    "b2.show()"
   ]
  },
  {
   "cell_type": "markdown",
   "metadata": {},
   "source": [
    "making a box border outside of the image"
   ]
  },
  {
   "cell_type": "code",
   "execution_count": 18,
   "metadata": {
    "collapsed": false
   },
   "outputs": [],
   "source": [
    "box = (22,324,826,846)\n",
    "ballons.rotate(45).show()"
   ]
  },
  {
   "cell_type": "code",
   "execution_count": 20,
   "metadata": {
    "collapsed": true
   },
   "outputs": [],
   "source": [
    "box = (22,324,826,846)\n",
    "ballons.rotate(45, expand=True).show()"
   ]
  },
  {
   "cell_type": "markdown",
   "metadata": {},
   "source": [
    "To save an image"
   ]
  },
  {
   "cell_type": "code",
   "execution_count": 21,
   "metadata": {
    "collapsed": true
   },
   "outputs": [],
   "source": [
    "ballons.rotate(-90).save(\"ballons2.jpg\")"
   ]
  },
  {
   "cell_type": "markdown",
   "metadata": {},
   "source": [
    "Now we can merge images together and we'll look at how to apply some pre-built rotations and flips to our images."
   ]
  },
  {
   "cell_type": "code",
   "execution_count": 22,
   "metadata": {
    "collapsed": true
   },
   "outputs": [],
   "source": [
    "region = cat.crop(box)\n",
    "region = region.convert(mode='L')\n",
    "cat2 = cat.copy()\n",
    "cat2.paste(region,box)\n",
    "cat2.show()"
   ]
  },
  {
   "cell_type": "code",
   "execution_count": 23,
   "metadata": {
    "collapsed": true
   },
   "outputs": [],
   "source": [
    "region = cat.crop(box)\n",
    "region = region.transpose(Image.FLIP_TOP_BOTTOM)\n",
    "cat2 = cat.copy()\n",
    "cat2.paste(region,box)\n",
    "cat2.show()"
   ]
  },
  {
   "cell_type": "markdown",
   "metadata": {},
   "source": [
    "`ImageEnhance` and `ImageFilter` modules to see about applying some enhancements and filters to our images for more advanced effects."
   ]
  },
  {
   "cell_type": "code",
   "execution_count": 24,
   "metadata": {
    "collapsed": true
   },
   "outputs": [],
   "source": [
    "from PIL import ImageEnhance, ImageFilter\n",
    "cat_enhancer = ImageEnhance.Color(cat)\n",
    "cat_enhancer.enhance(0.5).show()"
   ]
  },
  {
   "cell_type": "code",
   "execution_count": 28,
   "metadata": {
    "collapsed": true
   },
   "outputs": [],
   "source": [
    "cat.filter(ImageFilter.GaussianBlur(radius=3)).show()"
   ]
  },
  {
   "cell_type": "code",
   "execution_count": null,
   "metadata": {
    "collapsed": true
   },
   "outputs": [],
   "source": []
  }
 ],
 "metadata": {
  "anaconda-cloud": {},
  "kernelspec": {
   "display_name": "Python [conda root]",
   "language": "python",
   "name": "conda-root-py"
  },
  "language_info": {
   "codemirror_mode": {
    "name": "ipython",
    "version": 3
   },
   "file_extension": ".py",
   "mimetype": "text/x-python",
   "name": "python",
   "nbconvert_exporter": "python",
   "pygments_lexer": "ipython3",
   "version": "3.5.2"
  }
 },
 "nbformat": 4,
 "nbformat_minor": 2
}
