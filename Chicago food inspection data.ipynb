{
 "cells": [
  {
   "cell_type": "code",
   "execution_count": 7,
   "metadata": {
    "collapsed": true
   },
   "outputs": [],
   "source": [
    "import csv \n",
    "from collections import Counter"
   ]
  },
  {
   "cell_type": "code",
   "execution_count": 2,
   "metadata": {
    "collapsed": true
   },
   "outputs": [],
   "source": [
    "food = list(csv.DictReader(open(\"../data/Food_Inspections.csv\")))"
   ]
  },
  {
   "cell_type": "code",
   "execution_count": 3,
   "metadata": {
    "collapsed": false
   },
   "outputs": [
    {
     "data": {
      "text/plain": [
       "{'AKA Name': 'LAO SZE CHUAN',\n",
       " 'Address': '4832 N BROADWAY ',\n",
       " 'City': 'CHICAGO',\n",
       " 'DBA Name': 'LAO SZE CHUAN UPTOWN',\n",
       " 'Facility Type': 'Restaurant',\n",
       " 'Inspection Date': '04/21/2017',\n",
       " 'Inspection ID': '2028749',\n",
       " 'Inspection Type': 'Complaint Re-Inspection',\n",
       " 'Latitude': '41.969958863145955',\n",
       " 'License #': '1514893',\n",
       " 'Location': '(41.969958863145955, -87.65984317819886)',\n",
       " 'Longitude': '-87.65984317819886',\n",
       " 'Results': 'Pass',\n",
       " 'Risk': 'Risk 1 (High)',\n",
       " 'State': 'IL',\n",
       " 'Violations': '13. NO EVIDENCE OF RODENT OR INSECT INFESTATION, NO BIRDS, TURTLES OR OTHER ANIMALS - Comments: ALL DROPPINGS HAVE BEEN REMOVED. ALL HOLES AND OPENINGS SEALED. SERVICED BY PEST CONTROL COMPANY. | 32. FOOD AND NON-FOOD CONTACT SURFACES PROPERLY DESIGNED, CONSTRUCTED AND MAINTAINED - Comments: VIOLATION CORRECTED. | 33. FOOD AND NON-FOOD CONTACT EQUIPMENT UTENSILS CLEAN, FREE OF ABRASIVE DETERGENTS - Comments: VIOLATION CORRECTED. | 34. FLOORS: CONSTRUCTED PER CODE, CLEANED, GOOD REPAIR, COVING INSTALLED, DUST-LESS CLEANING METHODS USED - Comments: VIOLATION CORRECTED. | 35. WALLS, CEILINGS, ATTACHED EQUIPMENT CONSTRUCTED PER CODE: GOOD REPAIR, SURFACES CLEAN AND DUST-LESS CLEANING METHODS - Comments: VIOLATION CORRECTED. | 41. PREMISES MAINTAINED FREE OF LITTER, UNNECESSARY ARTICLES, CLEANING  EQUIPMENT PROPERLY STORED - Comments: VIOLATION CORRECTED.',\n",
       " 'Zip': '60640'}"
      ]
     },
     "execution_count": 3,
     "metadata": {},
     "output_type": "execute_result"
    }
   ],
   "source": [
    "food[0]"
   ]
  },
  {
   "cell_type": "code",
   "execution_count": 4,
   "metadata": {
    "collapsed": false
   },
   "outputs": [
    {
     "data": {
      "text/plain": [
       "{'Business Not Located',\n",
       " 'Fail',\n",
       " 'No Entry',\n",
       " 'Not Ready',\n",
       " 'Out of Business',\n",
       " 'Pass',\n",
       " 'Pass w/ Conditions'}"
      ]
     },
     "execution_count": 4,
     "metadata": {},
     "output_type": "execute_result"
    }
   ],
   "source": [
    "{row['Results'] for row in food}"
   ]
  },
  {
   "cell_type": "code",
   "execution_count": 5,
   "metadata": {
    "collapsed": true
   },
   "outputs": [],
   "source": [
    "fail = [row for row in food if row['Results'] == 'Fail']"
   ]
  },
  {
   "cell_type": "code",
   "execution_count": 6,
   "metadata": {
    "collapsed": false
   },
   "outputs": [
    {
     "data": {
      "text/plain": [
       "28533"
      ]
     },
     "execution_count": 6,
     "metadata": {},
     "output_type": "execute_result"
    }
   ],
   "source": [
    "len(fail)"
   ]
  },
  {
   "cell_type": "code",
   "execution_count": 8,
   "metadata": {
    "collapsed": true
   },
   "outputs": [],
   "source": [
    "worst = Counter(row['DBA Name'] for row in fail)"
   ]
  },
  {
   "cell_type": "code",
   "execution_count": 9,
   "metadata": {
    "collapsed": false
   },
   "outputs": [
    {
     "data": {
      "text/plain": [
       "[('SUBWAY', 243),\n",
       " ('DUNKIN DONUTS', 155),\n",
       " (\"MCDONALD'S\", 98),\n",
       " ('7-ELEVEN', 53),\n",
       " ('MCDONALDS', 42),\n",
       " (\"HAROLD'S CHICKEN SHACK\", 40),\n",
       " ('CHIPOTLE MEXICAN GRILL', 37),\n",
       " ('POTBELLY SANDWICH WORKS LLC', 37),\n",
       " (\"PAPA JOHN'S PIZZA\", 31),\n",
       " ('CITGO', 31)]"
      ]
     },
     "execution_count": 9,
     "metadata": {},
     "output_type": "execute_result"
    }
   ],
   "source": [
    "worst.most_common(10)"
   ]
  },
  {
   "cell_type": "code",
   "execution_count": 11,
   "metadata": {
    "collapsed": false
   },
   "outputs": [],
   "source": [
    "fail = [ {**row, 'DBA Name': row['DBA Name'].replace(\"'\",'').upper() }\n",
    "           for row in fail]"
   ]
  },
  {
   "cell_type": "code",
   "execution_count": 12,
   "metadata": {
    "collapsed": false
   },
   "outputs": [
    {
     "data": {
      "text/plain": [
       "[('SUBWAY', 268),\n",
       " ('MCDONALDS', 187),\n",
       " ('DUNKIN DONUTS', 170),\n",
       " ('7-ELEVEN', 58),\n",
       " ('CHIPOTLE MEXICAN GRILL', 52),\n",
       " ('HAROLDS CHICKEN SHACK', 41),\n",
       " ('JIMMY JOHNS', 38),\n",
       " ('POTBELLY SANDWICH WORKS LLC', 37),\n",
       " ('PAPA JOHNS PIZZA', 34),\n",
       " ('CITGO', 31)]"
      ]
     },
     "execution_count": 12,
     "metadata": {},
     "output_type": "execute_result"
    }
   ],
   "source": [
    "worst = Counter(row['DBA Name'] for row in fail)\n",
    "worst.most_common(10)"
   ]
  },
  {
   "cell_type": "code",
   "execution_count": 13,
   "metadata": {
    "collapsed": false
   },
   "outputs": [
    {
     "data": {
      "text/plain": [
       "[('11601 W TOUHY AVE ', 226),\n",
       " ('324 N LEAVITT ST ', 69),\n",
       " ('500 W MADISON ST ', 63),\n",
       " ('2300 S THROOP ST ', 45),\n",
       " ('5700 S CICERO AVE ', 44),\n",
       " ('100 W RANDOLPH ST ', 40),\n",
       " ('2637 S THROOP ST ', 33),\n",
       " ('333 W 35TH ST ', 31),\n",
       " ('600 E GRAND AVE ', 29),\n",
       " ('700 E GRAND AVE ', 28)]"
      ]
     },
     "execution_count": 13,
     "metadata": {},
     "output_type": "execute_result"
    }
   ],
   "source": [
    "bad_location = Counter(row['Address'] for row in fail)\n",
    "bad_location.most_common(10)"
   ]
  },
  {
   "cell_type": "code",
   "execution_count": null,
   "metadata": {
    "collapsed": true
   },
   "outputs": [],
   "source": []
  }
 ],
 "metadata": {
  "anaconda-cloud": {},
  "kernelspec": {
   "display_name": "Python [conda root]",
   "language": "python",
   "name": "conda-root-py"
  },
  "language_info": {
   "codemirror_mode": {
    "name": "ipython",
    "version": 3
   },
   "file_extension": ".py",
   "mimetype": "text/x-python",
   "name": "python",
   "nbconvert_exporter": "python",
   "pygments_lexer": "ipython3",
   "version": "3.5.2"
  }
 },
 "nbformat": 4,
 "nbformat_minor": 1
}
