{
 "cells": [
  {
   "cell_type": "code",
   "execution_count": 1,
   "metadata": {
    "collapsed": false
   },
   "outputs": [
    {
     "name": "stdout",
     "output_type": "stream",
     "text": [
      "3.5.2 |Anaconda 4.2.0 (64-bit)| (default, Jul  5 2016, 11:41:13) [MSC v.1900 64 bit (AMD64)]\n"
     ]
    }
   ],
   "source": [
    "import sys\n",
    "print(sys.version)"
   ]
  },
  {
   "cell_type": "code",
   "execution_count": 2,
   "metadata": {
    "collapsed": true
   },
   "outputs": [],
   "source": [
    "class Circle:\n",
    "    pass"
   ]
  },
  {
   "cell_type": "markdown",
   "metadata": {},
   "source": [
    "একটা সিম্পল class এইভাবে লিখা যায় । এইখানে \"pass\" statement-টা হচ্ছে পাইথন এর null operation।  যখন একটা ক্লাস/মেথড/কন্ডিশন scope কপ্লিট করার জন্য একটা statement দরকার, কিন্তু আমরা আর কোন স্টেট্মেন্ট এক্সিিউট করতে চাই না, তখনই এই \"pass\" ব্যবহার করা যায় । কোডের এই লাইনে ইন্টারপ্রিটার ঠিকই আসবে কিন্তু কোন কিছুই এক্সইকিউট করবে না ।"
   ]
  },
  {
   "cell_type": "code",
   "execution_count": 3,
   "metadata": {
    "collapsed": true
   },
   "outputs": [],
   "source": [
    "class Circle(object):\n",
    "    pass"
   ]
  },
  {
   "cell_type": "markdown",
   "metadata": {},
   "source": [
    "এইখানে object হচ্ছে একটা identifier যেটা python এর builtin type কে রেফার করে। identifier বলতে বুঝানো হইছে সেসব builtin প্রপার্টি যেগুলা keyword কিংবা operator হিসেবে ব্যবহার করা হয়না। java,c++ এর মতো python এ কোন primitive type নাই। এইখানে সব কিছুই object. তার মানে এইভাবেও বলা যায়, object হচ্ছে একটা global variable যেটা hierarchyতে সবার উপরে। \n",
    "\n",
    " \"object\" না লিখলেও কোন সমস্যা নাই। বাই-ডিফল্ট object-কে ইনহেরিট করবেই।"
   ]
  },
  {
   "cell_type": "code",
   "execution_count": 35,
   "metadata": {
    "collapsed": true
   },
   "outputs": [],
   "source": [
    "class Circle():\n",
    "    def __init__(self):\n",
    "        print(\"Hello Circle\")\n",
    "    \n",
    "    def radius(self):\n",
    "        print(\"Hello radius\")\n",
    "    "
   ]
  },
  {
   "cell_type": "code",
   "execution_count": 36,
   "metadata": {
    "collapsed": false
   },
   "outputs": [
    {
     "name": "stdout",
     "output_type": "stream",
     "text": [
      "Hello Circle\n"
     ]
    }
   ],
   "source": [
    "c_object = Circle()"
   ]
  },
  {
   "cell_type": "code",
   "execution_count": 38,
   "metadata": {
    "collapsed": false
   },
   "outputs": [
    {
     "name": "stdout",
     "output_type": "stream",
     "text": [
      "Hello Circle\n"
     ]
    }
   ],
   "source": [
    "c_object.__init__()"
   ]
  },
  {
   "cell_type": "code",
   "execution_count": 37,
   "metadata": {
    "collapsed": false
   },
   "outputs": [
    {
     "name": "stdout",
     "output_type": "stream",
     "text": [
      "After __init__()\n"
     ]
    }
   ],
   "source": [
    "c_object.radius()"
   ]
  },
  {
   "cell_type": "markdown",
   "metadata": {},
   "source": [
    "এইখানে আমরা ২ টা মেথড লিখলাম। এরপরে Circle এর একটা instance বানালাম, যা কিনা \"c_object\" variable-টা পয়েন্ট করে রাখছে। তারমানে হইলো c_object হচ্ছে Circle-টাইপ একটা অব্জেক্ট। \n"
   ]
  },
  {
   "cell_type": "code",
   "execution_count": 33,
   "metadata": {
    "collapsed": true
   },
   "outputs": [],
   "source": [
    "class Circle():\n",
    "    def __init__(self,radius):\n",
    "        print(\"Hello Circle\")\n",
    "        self.r = radius        #instance variable\n",
    "    \n",
    "    def radius(self):\n",
    "        print(self.r)\n",
    "    "
   ]
  },
  {
   "cell_type": "code",
   "execution_count": 34,
   "metadata": {
    "collapsed": false
   },
   "outputs": [
    {
     "name": "stdout",
     "output_type": "stream",
     "text": [
      "Hello Circle\n"
     ]
    }
   ],
   "source": [
    "c = Circles(5)"
   ]
  },
  {
   "cell_type": "code",
   "execution_count": 32,
   "metadata": {
    "collapsed": false
   },
   "outputs": [
    {
     "name": "stdout",
     "output_type": "stream",
     "text": [
      "5\n"
     ]
    }
   ],
   "source": [
    "c.radius()"
   ]
  },
  {
   "cell_type": "markdown",
   "metadata": {},
   "source": [
    "এইখানে radius হচ্ছে instance variable. \n",
    "\n",
    "Instance variable কি ? \n",
    "\n",
    "Instance variable হচ্ছে একটা ক্লাসের সে সব ফিল্ড যেগুলা আমরা class এর ইন্সটান্স বানানোর সময় প্যারামিটার হিসেবে পাস করবো।  \n",
    "\n",
    "আর `__init__()` মেথড হচ্ছে সব instance variable গুলাকে initialize করার জন্যে একমাত্র রাস্তা । তার মানে হচ্ছে আমি যদি `__init__()` ব্যবহার করি, তাহলে সেটা আমার class কে initialize করবে। "
   ]
  },
  {
   "cell_type": "code",
   "execution_count": null,
   "metadata": {
    "collapsed": true
   },
   "outputs": [],
   "source": []
  }
 ],
 "metadata": {
  "anaconda-cloud": {},
  "kernelspec": {
   "display_name": "Python [conda root]",
   "language": "python",
   "name": "conda-root-py"
  },
  "language_info": {
   "codemirror_mode": {
    "name": "ipython",
    "version": 3
   },
   "file_extension": ".py",
   "mimetype": "text/x-python",
   "name": "python",
   "nbconvert_exporter": "python",
   "pygments_lexer": "ipython3",
   "version": "3.5.2"
  }
 },
 "nbformat": 4,
 "nbformat_minor": 1
}
