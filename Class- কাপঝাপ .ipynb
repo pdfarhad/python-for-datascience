{
 "cells": [
  {
   "cell_type": "code",
   "execution_count": 1,
   "metadata": {
    "collapsed": false
   },
   "outputs": [
    {
     "name": "stdout",
     "output_type": "stream",
     "text": [
      "3.5.2 |Anaconda 4.2.0 (64-bit)| (default, Jul  5 2016, 11:41:13) [MSC v.1900 64 bit (AMD64)]\n"
     ]
    }
   ],
   "source": [
    "import sys\n",
    "print(sys.version)"
   ]
  },
  {
   "cell_type": "code",
   "execution_count": 2,
   "metadata": {
    "collapsed": true
   },
   "outputs": [],
   "source": [
    "class Circle:\n",
    "    pass"
   ]
  },
  {
   "cell_type": "markdown",
   "metadata": {},
   "source": [
    "একটা সিম্পল class এইভাবে লিখা যায় । এইখানে \"pass\" statement-টা হচ্ছে পাইথন এর null operation।  যখন একটা ক্লাস/মেথড/কন্ডিশন scope কপ্লিট করার জন্য একটা statement দরকার, কিন্তু আমরা আর কোন স্টেট্মেন্ট এক্সিিউট করতে চাই না, তখনই এই \"pass\" ব্যবহার করা যায় । কোডের এই লাইনে ইন্টারপ্রিটার ঠিকই আসবে কিন্তু কোন কিছুই এক্সইকিউট করবে না ।"
   ]
  },
  {
   "cell_type": "code",
   "execution_count": 3,
   "metadata": {
    "collapsed": true
   },
   "outputs": [],
   "source": [
    "class Circle(object):\n",
    "    pass"
   ]
  },
  {
   "cell_type": "markdown",
   "metadata": {},
   "source": [
    "এইখানে object হচ্ছে একটা identifier যেটা python এর builtin type কে রেফার করে। identifier বলতে বুঝানো হইছে সেসব builtin প্রপার্টি যেগুলা keyword কিংবা operator হিসেবে ব্যবহার করা হয়না। java,c++ এর মতো python এ কোন primitive type নাই। এইখানে সব কিছুই object. তার মানে এইভাবেও বলা যায়, object হচ্ছে একটা global variable যেটা hierarchyতে সবার উপরে। \n",
    "\n",
    " \"object\" না লিখলেও কোন সমস্যা নাই। বাই-ডিফল্ট object-কে ইনহেরিট করবেই।"
   ]
  },
  {
   "cell_type": "code",
   "execution_count": 4,
   "metadata": {
    "collapsed": true
   },
   "outputs": [],
   "source": [
    "class Circle():\n",
    "    radius = 5     # class attribute\n",
    "    def radius_print():\n",
    "        print(radius)"
   ]
  },
  {
   "cell_type": "markdown",
   "metadata": {},
   "source": [
    "আমরা একটা ভ্যারিয়েবল radius এবং মেথড radius লিখলাম যেটা Circle ক্লাসের প্রপার্টি। এখন আমরা Circle-এর একটা অব্জেক্ট বানাবো "
   ]
  },
  {
   "cell_type": "code",
   "execution_count": 5,
   "metadata": {
    "collapsed": true
   },
   "outputs": [],
   "source": [
    "c_object = Circle()"
   ]
  },
  {
   "cell_type": "markdown",
   "metadata": {},
   "source": [
    "যেহেতু c_object হচ্ছে Circle ক্লাসের instance। তার মানে c_object এখন Circle ক্লাসের প্রপার্টি গুলারে access করতে পারবে। "
   ]
  },
  {
   "cell_type": "code",
   "execution_count": 6,
   "metadata": {
    "collapsed": false
   },
   "outputs": [
    {
     "data": {
      "text/plain": [
       "5"
      ]
     },
     "execution_count": 6,
     "metadata": {},
     "output_type": "execute_result"
    }
   ],
   "source": [
    "c_object.radius"
   ]
  },
  {
   "cell_type": "markdown",
   "metadata": {},
   "source": [
    "ঠিকই variable-রে access করা যাচ্ছে। কিন্তু যদি radius_print() মেথডকে access করতে যাই, তাহলে......"
   ]
  },
  {
   "cell_type": "code",
   "execution_count": 7,
   "metadata": {
    "collapsed": false
   },
   "outputs": [
    {
     "ename": "TypeError",
     "evalue": "radius_print() takes 0 positional arguments but 1 was given",
     "output_type": "error",
     "traceback": [
      "\u001b[0;31m---------------------------------------------------------------------------\u001b[0m",
      "\u001b[0;31mTypeError\u001b[0m                                 Traceback (most recent call last)",
      "\u001b[0;32m<ipython-input-7-e9fd45735f4d>\u001b[0m in \u001b[0;36m<module>\u001b[0;34m()\u001b[0m\n\u001b[0;32m----> 1\u001b[0;31m \u001b[0mc_object\u001b[0m\u001b[1;33m.\u001b[0m\u001b[0mradius_print\u001b[0m\u001b[1;33m(\u001b[0m\u001b[1;33m)\u001b[0m\u001b[1;33m\u001b[0m\u001b[0m\n\u001b[0m",
      "\u001b[0;31mTypeError\u001b[0m: radius_print() takes 0 positional arguments but 1 was given"
     ]
    }
   ],
   "source": [
    "c_object.radius_print()"
   ]
  },
  {
   "cell_type": "markdown",
   "metadata": {},
   "source": [
    " এখানে error টা দেখে বুঝা যাচ্ছে,radius_print()মেথডটাতে প্যারামিটার দরকার, কিন্তু না কল করার সময়, না মেথড ডিক্লারেশনে আমরাতো কোন প্যারামিটার ই পাস করি নাই radius_print() মেথডে। তাহলে এইটা এখন ফিক্স করা লাগবে ।\n",
    " \n",
    "আমরা class টা আবার ঠিক করে লিখি "
   ]
  },
  {
   "cell_type": "code",
   "execution_count": 10,
   "metadata": {
    "collapsed": true
   },
   "outputs": [],
   "source": [
    "class Circle():\n",
    "    radius = 5     # class attribute\n",
    "    def radius_print(self):\n",
    "        print(self.radius)"
   ]
  },
  {
   "cell_type": "code",
   "execution_count": 11,
   "metadata": {
    "collapsed": false
   },
   "outputs": [
    {
     "name": "stdout",
     "output_type": "stream",
     "text": [
      "5\n"
     ]
    }
   ],
   "source": [
    "c_object = Circle()\n",
    "c_object.radius_print()"
   ]
  },
  {
   "cell_type": "markdown",
   "metadata": {},
   "source": [
    "এইবার কিন্তু ঠিকই মেথডটা কল করা গেল। \n",
    "\n",
    "আমরা যদি অন্য আরেটা মেথড লিখি ক্লাসে \n",
    "\n"
   ]
  },
  {
   "cell_type": "code",
   "execution_count": 14,
   "metadata": {
    "collapsed": true
   },
   "outputs": [],
   "source": [
    "class Circle():\n",
    "    radius = 5     # class attribute\n",
    "    def radius_print(self):\n",
    "        print(self.radius)\n",
    "    def circle_color(self, color_name):\n",
    "        print(color_name)"
   ]
  },
  {
   "cell_type": "code",
   "execution_count": 15,
   "metadata": {
    "collapsed": false
   },
   "outputs": [
    {
     "name": "stdout",
     "output_type": "stream",
     "text": [
      "red\n"
     ]
    }
   ],
   "source": [
    "c_object = Circle()\n",
    "c_object.circle_color(\"red\")"
   ]
  },
  {
   "cell_type": "markdown",
   "metadata": {},
   "source": [
    "তার মানে `self` বাই ডিফল্ট প্রথম প্যারামিটার । যখন কোন অব্জেক্ট instantiate করা হয়, তখন এই অব্জেক্ট নিজে self প্যারামিটারে পাস হয় । \n",
    "\n",
    "`c_object.circle_color(\"red\")` যখন কল হয় তখন আসলে ব্যপারটা এমন হয় \n",
    "\n",
    "`Circle.circle_color(c_object,\"red\")` এইভাবে কল হয়। \n",
    "\n",
    "এইখানে `circle_color` মেথডে `color_name` হচ্ছে এই মেথডের ভ্যারিয়েবল। আর `radius` হচ্ছে class attribute. সুতরাং, আমি এই Circle ক্লাসের ভিতরে যেখানেই এইটা ব্যবহার করতে চাই না কেন, আমাকে `self.radius` দিয়ে access  করতে হবে।  \n",
    "\n",
    "`self` শব্দটা কিন্তু reserved keyword না। এর বদলে আমরা কিন্তু যেকোন কিছুই লিখতে পারবো \n"
   ]
  },
  {
   "cell_type": "code",
   "execution_count": 16,
   "metadata": {
    "collapsed": true
   },
   "outputs": [],
   "source": [
    "class Circle():\n",
    "    radius = 5     # class attribute\n",
    "    def radius_print(this):\n",
    "        print(this.radius)\n",
    "    def circle_color(self, color_name):\n",
    "        print(color_name)"
   ]
  },
  {
   "cell_type": "code",
   "execution_count": 19,
   "metadata": {
    "collapsed": false
   },
   "outputs": [
    {
     "name": "stdout",
     "output_type": "stream",
     "text": [
      "5\n"
     ]
    }
   ],
   "source": [
    "c_object = Circle()\n",
    "c_object.radius_print()"
   ]
  },
  {
   "cell_type": "markdown",
   "metadata": {},
   "source": [
    "এইখানে `self` এর কাজ `this` করতেছে। তারমানে আমি যাই রাখি ভ্যারিয়ে্বল এর নাম, কাজ সে একই করবে। কিন্তু `self` লিখাটা strong convention হিসেবে ধরা হয়। "
   ]
  },
  {
   "cell_type": "code",
   "execution_count": null,
   "metadata": {
    "collapsed": true
   },
   "outputs": [],
   "source": []
  },
  {
   "cell_type": "markdown",
   "metadata": {},
   "source": []
  },
  {
   "cell_type": "code",
   "execution_count": 35,
   "metadata": {
    "collapsed": true
   },
   "outputs": [],
   "source": [
    "class Circle():\n",
    "    def __init__(self):\n",
    "        print(\"Hello Circle\")\n",
    "    \n",
    "    def radius(self):\n",
    "        print(\"Hello radius\")\n",
    "    "
   ]
  },
  {
   "cell_type": "code",
   "execution_count": 36,
   "metadata": {
    "collapsed": false
   },
   "outputs": [
    {
     "name": "stdout",
     "output_type": "stream",
     "text": [
      "Hello Circle\n"
     ]
    }
   ],
   "source": [
    "c_object = Circle()"
   ]
  },
  {
   "cell_type": "code",
   "execution_count": 38,
   "metadata": {
    "collapsed": false
   },
   "outputs": [
    {
     "name": "stdout",
     "output_type": "stream",
     "text": [
      "Hello Circle\n"
     ]
    }
   ],
   "source": [
    "c_object.__init__()"
   ]
  },
  {
   "cell_type": "code",
   "execution_count": 37,
   "metadata": {
    "collapsed": false
   },
   "outputs": [
    {
     "name": "stdout",
     "output_type": "stream",
     "text": [
      "After __init__()\n"
     ]
    }
   ],
   "source": [
    "c_object.radius()"
   ]
  },
  {
   "cell_type": "markdown",
   "metadata": {},
   "source": [
    "এইখানে আমরা ২ টা মেথড লিখলাম। এরপরে Circle এর একটা instance বানালাম, যা কিনা \"c_object\" variable-টা পয়েন্ট করে রাখছে। তারমানে হইলো c_object হচ্ছে Circle-টাইপ একটা অব্জেক্ট। \n",
    "\n"
   ]
  },
  {
   "cell_type": "code",
   "execution_count": 33,
   "metadata": {
    "collapsed": true
   },
   "outputs": [],
   "source": [
    "class Circle():\n",
    "    def __init__(self,radius):\n",
    "        print(\"Hello Circle\")\n",
    "        self.r = radius        #instance variable\n",
    "    \n",
    "    def radius(self):\n",
    "        print(self.r)\n",
    "    "
   ]
  },
  {
   "cell_type": "code",
   "execution_count": 34,
   "metadata": {
    "collapsed": false
   },
   "outputs": [
    {
     "name": "stdout",
     "output_type": "stream",
     "text": [
      "Hello Circle\n"
     ]
    }
   ],
   "source": [
    "c = Circles(5)"
   ]
  },
  {
   "cell_type": "code",
   "execution_count": 32,
   "metadata": {
    "collapsed": false
   },
   "outputs": [
    {
     "name": "stdout",
     "output_type": "stream",
     "text": [
      "5\n"
     ]
    }
   ],
   "source": [
    "c.radius()"
   ]
  },
  {
   "cell_type": "markdown",
   "metadata": {},
   "source": [
    "এইখানে radius হচ্ছে instance variable. \n",
    "\n",
    "Instance variable কি ? \n",
    "\n",
    "Instance variable হচ্ছে একটা ক্লাসের সে সব ফিল্ড যেগুলা আমরা class এর ইন্সটান্স বানানোর সময় প্যারামিটার হিসেবে পাস করবো।  \n",
    "\n",
    "আর `__init__()` মেথড হচ্ছে সব instance variable গুলাকে initialize করার জন্যে একমাত্র রাস্তা । তার মানে হচ্ছে আমি যদি `__init__()` ব্যবহার করি, তাহলে সেটা আমার class কে initialize করবে। "
   ]
  },
  {
   "cell_type": "code",
   "execution_count": null,
   "metadata": {
    "collapsed": true
   },
   "outputs": [],
   "source": []
  }
 ],
 "metadata": {
  "anaconda-cloud": {},
  "kernelspec": {
   "display_name": "Python [conda root]",
   "language": "python",
   "name": "conda-root-py"
  },
  "language_info": {
   "codemirror_mode": {
    "name": "ipython",
    "version": 3
   },
   "file_extension": ".py",
   "mimetype": "text/x-python",
   "name": "python",
   "nbconvert_exporter": "python",
   "pygments_lexer": "ipython3",
   "version": "3.5.2"
  }
 },
 "nbformat": 4,
 "nbformat_minor": 1
}
