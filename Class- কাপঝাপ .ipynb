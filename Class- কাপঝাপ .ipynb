{
 "cells": [
  {
   "cell_type": "code",
   "execution_count": 1,
   "metadata": {
    "collapsed": true
   },
   "outputs": [],
   "source": [
    "class Circle:\n",
    "    pass"
   ]
  },
  {
   "cell_type": "markdown",
   "metadata": {},
   "source": [
    "একটা সিম্পল class এইভাবে লিখা যায় । এইখানে \"pass\" statement-টা হচ্ছে পাইথন এর null operation।  যখন একটা ক্লাস/মেথড/কন্ডিশন scope কপ্লিট করার জন্য একটা statement দরকার, কিন্তু আমরা আর কোন স্টেট্মেন্ট এক্সিিউট করতে চাই না, তখনই এই \"pass\" ব্যবহার করা যায় । কোডের এই লাইনে ইন্টারপ্রিটার ঠিকই আসবে কিন্তু কোন কিছুই এক্সইকিউট করবে না ।"
   ]
  },
  {
   "cell_type": "code",
   "execution_count": 2,
   "metadata": {
    "collapsed": true
   },
   "outputs": [],
   "source": [
    "class Circle(object):\n",
    "    pass"
   ]
  },
  {
   "cell_type": "markdown",
   "metadata": {},
   "source": [
    "class "
   ]
  },
  {
   "cell_type": "code",
   "execution_count": 3,
   "metadata": {
    "collapsed": true
   },
   "outputs": [],
   "source": [
    "class Circle(object):\n",
    "    \n",
    "    def __int__(self, radius):\n",
    "        self.radius = radius        #instance variable\n",
    "    \n",
    "    "
   ]
  },
  {
   "cell_type": "markdown",
   "metadata": {},
   "source": [
    "এইখানে radius হচ্ছে instance variable.instance variable কি ? \n",
    "instance variable হচ্ছে একটা ক্লাসের সে সব ফিল্ড যেগুলা আমরা class এর ইন্সটান্স বানানোর সময় প্যারামিটার হিসেবে পাস করবো।  \n",
    "\n",
    "আর `__init__()` মেথড হচ্ছে সব instance variable গুলাকে initialize করার জন্যে একমাত্র রাস্তা । তার মানে হচ্ছে আমি যদি `__init__()` ব্যবহার করি, তাহলে সেটা আমার class কে initialize করবে। "
   ]
  },
  {
   "cell_type": "code",
   "execution_count": null,
   "metadata": {
    "collapsed": true
   },
   "outputs": [],
   "source": []
  }
 ],
 "metadata": {
  "anaconda-cloud": {},
  "kernelspec": {
   "display_name": "Python [conda root]",
   "language": "python",
   "name": "conda-root-py"
  },
  "language_info": {
   "codemirror_mode": {
    "name": "ipython",
    "version": 3
   },
   "file_extension": ".py",
   "mimetype": "text/x-python",
   "name": "python",
   "nbconvert_exporter": "python",
   "pygments_lexer": "ipython3",
   "version": "3.5.2"
  }
 },
 "nbformat": 4,
 "nbformat_minor": 1
}
