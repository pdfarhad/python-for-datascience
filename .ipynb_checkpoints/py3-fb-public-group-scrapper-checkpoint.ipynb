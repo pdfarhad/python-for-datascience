{
 "cells": [
  {
   "cell_type": "code",
   "execution_count": 1,
   "metadata": {
    "collapsed": true
   },
   "outputs": [],
   "source": [
    "import urllib.request\n",
    "import json\n",
    "import datetime\n",
    "import csv\n",
    "import time\n",
    "import codecs"
   ]
  },
  {
   "cell_type": "code",
   "execution_count": 2,
   "metadata": {
    "collapsed": true
   },
   "outputs": [],
   "source": [
    "app_id = \"1192796350809849\"\n",
    "app_secret = \"585a729a44bb655f2cd6ef954e191a79\"\n",
    "access_token = app_id +\"|\"+ app_secret\n",
    "group_id = '172177269650835'#'publicserviceinnovationblog'"
   ]
  },
  {
   "cell_type": "code",
   "execution_count": 20,
   "metadata": {
    "collapsed": true
   },
   "outputs": [],
   "source": [
    "def request_until_completed(url):\n",
    "    req = urllib.request.Request(url)\n",
    "    success = False\n",
    "    while success is False:\n",
    "        try: \n",
    "            response = urllib.request.urlopen(req)\n",
    "            if response.getcode() == 200:\n",
    "                success = True\n",
    "        except Exception as e:\n",
    "            print(e)\n",
    "            time.sleep(5)\n",
    "\n",
    "            print(\"Error for URL %s: %s\" % (url, datetime.datetime.now()))\n",
    "            print(\"Retrying.\")\n",
    "\n",
    "    return response.read().decode(response.headers.get_content_charset())"
   ]
  },
  {
   "cell_type": "code",
   "execution_count": 21,
   "metadata": {
    "collapsed": true
   },
   "outputs": [],
   "source": [
    "def unicode_normalize(text):\n",
    "    return text.translate({ 0x2018:0x27, 0x2019:0x27, 0x201C:0x22, 0x201D:0x22,\n",
    "                            0xa0:0x20 })\n"
   ]
  },
  {
   "cell_type": "code",
   "execution_count": 22,
   "metadata": {
    "collapsed": false
   },
   "outputs": [],
   "source": [
    "def get_fb_group_data(group_id, access_token, num_statuses):\n",
    "    \n",
    "    limit = \"500\"\n",
    "    # Construct the URL string; see http://stackoverflow.com/a/37239851 for\n",
    "    # Reactions parameters\n",
    "    base = \"https://graph.facebook.com\"     # main url\n",
    "    node = \"/\" + group_id + \"/feed\" \n",
    "    parameters = \"/?fields=from,message,link,created_time,type,name,id,reactions.limit(\"+limit+\").summary(true),comments.limit(\"+limit+\").summary(true),shares&limit=%s&access_token=%s\" % (num_statuses, access_token) # changed\n",
    "    url = base + node + parameters\n",
    "    print(url)\n",
    "\n",
    "    # retrieve data\n",
    "    data = json.loads(request_until_completed(url))\n",
    "\n",
    "    return data"
   ]
  },
  {
   "cell_type": "code",
   "execution_count": 23,
   "metadata": {
    "collapsed": false
   },
   "outputs": [
    {
     "name": "stdout",
     "output_type": "stream",
     "text": [
      "https://graph.facebook.com/172177269650835/feed/?fields=from,message,link,created_time,type,name,id,reactions.limit(500).summary(true),comments.limit(500).summary(true),shares&limit=1&access_token=1192796350809849|585a729a44bb655f2cd6ef954e191a79\n",
      "{'paging': {'next': 'https://graph.facebook.com/v2.8/172177269650835/feed?fields=from,message,link,created_time,type,name,id,reactions.limit%28500%29.summary%28true%29,comments.limit%28500%29.summary%28true%29,shares&limit=1&icon_size=16&access_token=1192796350809849|585a729a44bb655f2cd6ef954e191a79&until=1500886137&__paging_token=enc_AdBRAMqZCUGQTSRGMZAgKSLBeg2KvpnAX4H8GTaCEG8YZC8Nmrt6Bh8S2kN33KURqkLkZBq9JDQietFKcXs0SbifG5bWKzHM9E7OcprJg34rAlg9pwZDZD', 'previous': 'https://graph.facebook.com/v2.8/172177269650835/feed?fields=from,message,link,created_time,type,name,id,reactions.limit%28500%29.summary%28true%29,comments.limit%28500%29.summary%28true%29,shares&limit=1&icon_size=16&since=1500886137&access_token=1192796350809849|585a729a44bb655f2cd6ef954e191a79&__paging_token=enc_AdBRAMqZCUGQTSRGMZAgKSLBeg2KvpnAX4H8GTaCEG8YZC8Nmrt6Bh8S2kN33KURqkLkZBq9JDQietFKcXs0SbifG5bWKzHM9E7OcprJg34rAlg9pwZDZD&__previous=1'}, 'data': [{'reactions': {'paging': {'cursors': {'after': 'TVRjeU1EVXhOREF4TURveE5UQXdOak14TWprM09qSTFOREE1TmpFMk1UTT0ZD', 'before': 'TVRBd01EQTBOelUwTXpFMU1URTFPakUxTURBNE9ETXdOelk2TWpVME1EazJNVFl4TXc9PQZDZD'}}, 'data': [{'type': 'LIKE', 'name': 'Alamgir Azam', 'id': '685754434926361'}, {'type': 'LIKE', 'name': 'Nadiruz Zaman', 'id': '1416323341795927'}, {'type': 'LIKE', 'name': 'Sirajul Islam', 'id': '455001281506197'}, {'type': 'LIKE', 'name': 'Mostafizur Rahman', 'id': '1395121717231944'}, {'type': 'LIKE', 'name': 'Ufpo Kushtia Sadar', 'id': '692151837626220'}, {'type': 'LIKE', 'name': 'মুহাম্মদ শাহাদৎ সিদ্দিকী', 'id': '137829150047541'}, {'type': 'LIKE', 'name': 'Shamim Reza', 'id': '10213892193925556'}, {'type': 'LIKE', 'name': 'Jamil Ahmed Jami', 'id': '1416831588364135'}, {'type': 'LIKE', 'name': 'Lopa Khan', 'id': '801308110031495'}, {'type': 'LIKE', 'name': 'Gazi Shah Alam', 'id': '1812508498764705'}, {'type': 'LIKE', 'name': 'Syed Gias Uddin', 'id': '10209825927619427'}, {'type': 'LIKE', 'name': 'Shah MD AL Amin', 'id': '142829839634487'}, {'type': 'LIKE', 'name': 'Helal Uddin', 'id': '1410478665695208'}, {'type': 'LIKE', 'name': 'Krishibid Abdul Wadud', 'id': '1530534793670328'}, {'type': 'LIKE', 'name': 'Lutfor Rahman', 'id': '1396875803722139'}, {'type': 'LIKE', 'name': 'Suriya Khatun Tania', 'id': '1557178661011447'}, {'type': 'LIKE', 'name': 'Nabirul Islam', 'id': '1100337136767123'}, {'type': 'LIKE', 'name': 'Nasrin Akter', 'id': '252934918545769'}, {'type': 'LIKE', 'name': 'Zohurul Jewel', 'id': '10211168985877665'}, {'type': 'LIKE', 'name': 'Mihir Kanti Adhikari', 'id': '10209771878923459'}, {'type': 'LIKE', 'name': 'Abdul Latif', 'id': '301415103648498'}, {'type': 'LIKE', 'name': 'Suman Kanti Nath', 'id': '10211935405124503'}, {'type': 'LIKE', 'name': 'Sarwar Jahan Sujan', 'id': '10211550964832393'}, {'type': 'LIKE', 'name': 'Siddiqua Sarwar', 'id': '1358742094240485'}, {'type': 'LIKE', 'name': 'ইমরান ইমু', 'id': '1794848423865208'}, {'type': 'LIKE', 'name': 'তাহমিনা মমতাজ শায়লা', 'id': '467435690281591'}, {'type': 'LIKE', 'name': 'T.K. Roy Tapu', 'id': '1850265044990483'}, {'type': 'LIKE', 'name': 'Dr-Sazeeb Amin', 'id': '1648646641877596'}, {'type': 'LIKE', 'name': 'জপু চক্রবর্তী', 'id': '1926625897606721'}, {'type': 'LIKE', 'name': 'Jahid Anwar', 'id': '10203627161675851'}], 'summary': {'viewer_reaction': 'NONE', 'total_count': 30}}, 'created_time': '2017-07-21T09:58:37+0000', 'id': '172177269650835_736038436598046', 'comments': {'paging': {'cursors': {'after': 'WTI5dGJXVnVkRjlqZAFhKemIzSTZAOek0zTlRVeU5EUXpNVEV6TXpFeU9qRTFNREE0T0RNNE5ERT0ZD', 'before': 'WTI5dGJXVnVkRjlqZAFhKemIzSTZAOek0yTWpVM01EazVPVEE1TlRFek9qRTFNREEyTmpFek9UST0ZD'}}, 'data': [{'created_time': '2017-07-21T18:23:12+0000', 'id': '736257099909513', 'message': 'জনাব Manik Mahmud।\\nবিষয়টির সাথে সংশ্লিষ্টদের মেনশন করে দিলে হয়তো আমরা কোন সাজেশন বা সমাধান পেতে পারি', 'from': {'name': 'Ramim Islam Noor', 'id': '10208159795609456'}}, {'created_time': '2017-07-23T14:22:18+0000', 'id': '737205476481342', 'message': 'সহমত পোষণ করছি', 'from': {'name': 'মুহাম্মদ শাহাদৎ সিদ্দিকী', 'id': '137829150047541'}}, {'created_time': '2017-07-24T08:10:41+0000', 'id': '737552443113312', 'message': 'বাধ্যতামূলক হওয়া উচিত', 'from': {'name': 'Muhammad Nasir Uddin', 'id': '1043144109150332'}}], 'summary': {'can_comment': False, 'order': 'chronological', 'total_count': 3}}, 'type': 'status', 'shares': {'count': 4}, 'message': 'উৎসে কর কর্তন ও একটি বাস্তব সমস্যা\\n\\nপ্রথমেই বলে রাখি, উৎসে কর কর্তন একটি ভাল আইডিয়া। এটা একটা অপশন হওয়া উচিৎ কিন্তু বাধ্যতামূলক হওয়া উচিৎ নয়। কারণ,\\n\\nপ্রজাতন্ত্রের যে কর্মচারীকে বছর শেষে শুধু ন্যূনতম কর দিতে হবে তার ক্ষেত্রে এই পদ্ধতিতে অতিরিক্ত কর প্রদান করা হয়ে যাচ্ছে। উদাহরণস্বরূপ,\\n\\nএকজন ব্যক্তিকে যদি ন্যূনতম কর ৪০০০ টাকা দিতে হয়, হিসেব মতে তাকে মাসিক ৩৩৩ বা ৩৩৪ টাকা কর্তন করতে বাধ্য করা হচ্ছে। কিন্তু, সেই ব্যক্তির ব্যাংকে গচ্ছিত টাকার লভ্যাংশ, সঞ্চয়পত্রের মুনাফা ইত্যাদি থেকেও স্বয়ংক্রিয়ভাবে উৎসে কর কর্তন হচ্ছে।\\n\\nসেক্ষেত্রে বেতন থেকে কর্তন এবং ব্যাংক থেকে কর্তন মিলে অতিরিক্ত কর প্রদান করা হয়ে যাচ্ছে।\\n\\nহিসাব রক্ষণ অফিসের সাথে যোগাযোগ করলে তারা জানায়, উৎসে কর কর্তন করতেই হবে এবং সেটা ন্যূনতম করের পরিমানে হতেই হবে। এই পরিমান কর্তন ছাড়া বেতন বিল পাস হবেনা। \\n\\nতাহলে এই সমস্যার সমাধান কী?\\n\\nপাব্লিক সার্ভিস ইনোভেশন বলতে আমি সব ধরণের সার্ভিস সহজীকরণে করণীয় বুঝি। তাই, সমস্যাটির সমাধানে সংশ্লিষ্ট বিভাগের দৃষ্টি আকর্ষণ করছি।', 'from': {'name': 'Ramim Islam Noor', 'id': '10208159795609456'}}]}\n"
     ]
    }
   ],
   "source": [
    "status = get_fb_group_data(group_id, access_token, 1)\n",
    "print(status)"
   ]
  },
  {
   "cell_type": "code",
   "execution_count": 6,
   "metadata": {
    "collapsed": true
   },
   "outputs": [],
   "source": [
    "def get_reactions_of_each_status(status_id, access_token):\n",
    "\n",
    "    # See http://stackoverflow.com/a/37239851 for Reactions parameters\n",
    "        # Reactions are only accessable at a single-post endpoint\n",
    "\n",
    "    base = \"https://graph.facebook.com/v2.6\"\n",
    "    node = \"/%s\" % status_id\n",
    "    reactions = \"/?fields=\" \\\n",
    "            \"reactions.type(LIKE).limit(0).summary(total_count).as(like)\" \\\n",
    "            \",reactions.type(LOVE).limit(0).summary(total_count).as(love)\" \\\n",
    "            \",reactions.type(WOW).limit(0).summary(total_count).as(wow)\" \\\n",
    "            \",reactions.type(HAHA).limit(0).summary(total_count).as(haha)\" \\\n",
    "            \",reactions.type(SAD).limit(0).summary(total_count).as(sad)\" \\\n",
    "            \",reactions.type(ANGRY).limit(0).summary(total_count).as(angry)\"\n",
    "    parameters = \"&access_token=%s\" % access_token\n",
    "    url = base + node + reactions + parameters\n",
    "\n",
    "    # retrieve data\n",
    "    data = json.loads(request_until_completed(url))\n",
    "\n",
    "    return data\n"
   ]
  },
  {
   "cell_type": "code",
   "execution_count": 28,
   "metadata": {
    "collapsed": true
   },
   "outputs": [],
   "source": [
    "\n",
    "\n",
    "def process_fb_status(status, access_token):\n",
    "\n",
    "    # The status is now a Python dictionary, so for top-level items,\n",
    "    # we can simply call the key.\n",
    "\n",
    "    # Additionally, some items may not always exist,\n",
    "    # so must check for existence first\n",
    "\n",
    "    status_id = status['id']\n",
    "    status_giver_name = status['from']['name']\n",
    "    status_giver_id = status['from']['id']\n",
    "    status_message = '' if 'message' not in status.keys() else \\\n",
    "            unicode_normalize(status['message'])\n",
    "    link_name = '' if 'name' not in status.keys() else \\\n",
    "            unicode_normalize(status['name'])\n",
    "    status_type = status['type']\n",
    "    status_link = '' if 'link' not in status.keys() else \\\n",
    "            unicode_normalize(status['link'])\n",
    "\n",
    "    # Time needs special care since a) it's in UTC and\n",
    "    # b) it's not easy to use in statistical programs.\n",
    "\n",
    "    status_published = datetime.datetime.strptime(\n",
    "            status['created_time'],'%Y-%m-%dT%H:%M:%S+0000')\n",
    "    status_published = status_published + \\\n",
    "            datetime.timedelta(hours=-5) # EST\n",
    "    status_published = status_published.strftime(\n",
    "            '%Y-%m-%d %H:%M:%S') # best time format for spreadsheet programs\n",
    "\n",
    "    # Nested items require chaining dictionary keys.\n",
    "    comment_giver_id = []\n",
    "    reaction_giver_id = []\n",
    "    \n",
    "    num_reactions = 0 if 'reactions' not in status else \\\n",
    "            status['reactions']['summary']['total_count']\n",
    "    for reaction in status['reactions']['data']:\n",
    "        reaction_giver_id.append(reaction[\"id\"])    \n",
    "    \n",
    "    num_comments = 0 if 'comments' not in status else \\\n",
    "            status['comments']['summary']['total_count']\n",
    "    for comment in status['comments']['data']:\n",
    "        comment_giver_id.append(comment[\"from\"][\"id\"])\n",
    "    num_shares = 0 if 'shares' not in status else status['shares']['count']\n",
    "    \n",
    "    \n",
    "\n",
    "    # Counts of each reaction separately; good for sentiment\n",
    "    # Only check for reactions if past date of implementation:\n",
    "    # http://newsroom.fb.com/news/2016/02/reactions-now-available-globally/\n",
    "\n",
    "#     reactions = get_reactions_of_each_status(status_id, access_token) if \\\n",
    "#             status_published > '2016-02-24 00:00:00' else {}\n",
    "\n",
    "#     num_likes = 0 if 'reactions' not in reactions else \\\n",
    "#             reactions['reactions']['summary']['total_count']\n",
    "\n",
    "    # Special case: Set number of Likes to Number of reactions for pre-reaction\n",
    "    # statuses\n",
    "\n",
    "#     num_likes = num_reactions if status_published < '2016-02-24 00:00:00' \\\n",
    "#             else num_likes\n",
    "\n",
    "#     def get_num_total_reactions(reaction_type, reactions):\n",
    "#         if reaction_type not in reactions:\n",
    "#             return 0\n",
    "#         else:\n",
    "#             return reactions[reaction_type]['summary']['total_count']\n",
    "\n",
    "#     num_loves = get_num_total_reactions('love', reactions)\n",
    "#     num_wows = get_num_total_reactions('wow', reactions)\n",
    "#     num_hahas = get_num_total_reactions('haha', reactions)\n",
    "#     num_sads = get_num_total_reactions('sad', reactions)\n",
    "#     num_angrys = get_num_total_reactions('angry', reactions)\n",
    "\n",
    "    # Return a tuple of all processed data\n",
    "\n",
    "#     return (status_id, status_giver_name, status_giver_id, status_message, link_name, status_type, status_link,\n",
    "#             status_published, num_reactions, reaction_giver_id, num_comments, comment_giver_id, num_shares,\n",
    "#             num_likes, num_loves, num_wows, num_hahas, num_sads, num_angrys)\n",
    "\n",
    "    return (status_id, status_giver_name, status_giver_id, status_message, link_name, status_type, status_link,\n",
    "            status_published, num_reactions, reaction_giver_id, num_comments, comment_giver_id, num_shares)\n"
   ]
  },
  {
   "cell_type": "code",
   "execution_count": 25,
   "metadata": {
    "collapsed": false
   },
   "outputs": [
    {
     "ename": "TypeError",
     "evalue": "list indices must be integers or slices, not str",
     "output_type": "error",
     "traceback": [
      "\u001b[0;31m---------------------------------------------------------------------------\u001b[0m",
      "\u001b[0;31mTypeError\u001b[0m                                 Traceback (most recent call last)",
      "\u001b[0;32m<ipython-input-25-935d09b47f71>\u001b[0m in \u001b[0;36m<module>\u001b[0;34m()\u001b[0m\n\u001b[0;32m----> 1\u001b[0;31m \u001b[0mprocess_fb_status\u001b[0m\u001b[1;33m(\u001b[0m\u001b[0mstatus\u001b[0m\u001b[1;33m[\u001b[0m\u001b[1;34m'data'\u001b[0m\u001b[1;33m]\u001b[0m\u001b[1;33m,\u001b[0m\u001b[0maccess_token\u001b[0m\u001b[1;33m)\u001b[0m\u001b[1;33m\u001b[0m\u001b[0m\n\u001b[0m",
      "\u001b[0;32m<ipython-input-24-d6edaed5811d>\u001b[0m in \u001b[0;36mprocess_fb_status\u001b[0;34m(status, access_token)\u001b[0m\n\u001b[1;32m      9\u001b[0m     \u001b[1;31m# so must check for existence first\u001b[0m\u001b[1;33m\u001b[0m\u001b[1;33m\u001b[0m\u001b[0m\n\u001b[1;32m     10\u001b[0m \u001b[1;33m\u001b[0m\u001b[0m\n\u001b[0;32m---> 11\u001b[0;31m     \u001b[0mstatus_id\u001b[0m \u001b[1;33m=\u001b[0m \u001b[0mstatus\u001b[0m\u001b[1;33m[\u001b[0m\u001b[1;34m'id'\u001b[0m\u001b[1;33m]\u001b[0m\u001b[1;33m\u001b[0m\u001b[0m\n\u001b[0m\u001b[1;32m     12\u001b[0m     \u001b[0mstatus_giver_name\u001b[0m \u001b[1;33m=\u001b[0m \u001b[0mstatus\u001b[0m\u001b[1;33m[\u001b[0m\u001b[1;34m'from'\u001b[0m\u001b[1;33m]\u001b[0m\u001b[1;33m[\u001b[0m\u001b[1;34m'name'\u001b[0m\u001b[1;33m]\u001b[0m\u001b[1;33m\u001b[0m\u001b[0m\n\u001b[1;32m     13\u001b[0m     \u001b[0mstatus_giver_id\u001b[0m \u001b[1;33m=\u001b[0m \u001b[0mstatus\u001b[0m\u001b[1;33m[\u001b[0m\u001b[1;34m'from'\u001b[0m\u001b[1;33m]\u001b[0m\u001b[1;33m[\u001b[0m\u001b[1;34m'id'\u001b[0m\u001b[1;33m]\u001b[0m\u001b[1;33m\u001b[0m\u001b[0m\n",
      "\u001b[0;31mTypeError\u001b[0m: list indices must be integers or slices, not str"
     ]
    }
   ],
   "source": [
    "process_fb_status(status['data'],access_token)"
   ]
  },
  {
   "cell_type": "code",
   "execution_count": 29,
   "metadata": {
    "collapsed": false
   },
   "outputs": [],
   "source": [
    "def scrape_fb_group_status(group_id, access_token):\n",
    "    \n",
    "        #https://graph.facebook.com/492659611068932/?fields=first_name,middle_name,last_name,gender,work,about,birthday,age_range,education,email&access_token=1192796350809849%7C585a729a44bb655f2cd6ef954e191a79\n",
    "\n",
    "    with open('%s_facebook_statuses.csv' % group_id, 'w', newline='',encoding='utf-8') as file:\n",
    "        w = csv.writer(file)\n",
    "#         w.writerow([\"status_id\",\"status_giver_name\",\"status_giver_id\", \"status_message\", \"link_name\", \"status_type\",\n",
    "#                     \"status_link\", \"status_published\", \"num_reactions\", \n",
    "#                     \"num_comments\", \"num_shares\", \"num_likes\", \"num_loves\", \n",
    "#                     \"num_wows\", \"num_hahas\", \"num_sads\", \"num_angrys\"])\n",
    "        w.writerow([\"status_id\",\"status_giver_name\",\"status_giver_id\", \"status_message\", \"link_name\", \"status_type\",\n",
    "                    \"status_link\", \"status_published\", \"num_reactions\",\"reaction_giver_id\"\n",
    "                    \"num_comments\",\"comment_giver_id\", \"num_shares\"])\n",
    "\n",
    "        has_next_page = True\n",
    "        num_processed = 0   # keep a count on how many we've processed\n",
    "        scrape_starttime = datetime.datetime.now()\n",
    "\n",
    "        print(\"Scraping %s Facebook Page: %s\\n\" % (group_id, scrape_starttime))\n",
    "\n",
    "        statuses = get_fb_group_data(group_id, access_token, 10)\n",
    "\n",
    "        while has_next_page:\n",
    "            for status in statuses['data']:\n",
    "\n",
    "                # Ensure it is a status with the expected metadata\n",
    "#                 if 'reactions' in status:\n",
    "                w.writerow(process_fb_status(status,\n",
    "                        access_token))\n",
    "\n",
    "                # output progress occasionally to make sure code is not\n",
    "                # stalling\n",
    "                num_processed += 1\n",
    "                if num_processed % 100 == 0:\n",
    "                    print(\"%s Statuses Processed: %s\" % \\\n",
    "                        (num_processed, datetime.datetime.now()))\n",
    "\n",
    "            # if there is no next page, we're done.\n",
    "            if 'paging' in statuses.keys():\n",
    "                statuses = json.loads(request_until_completed(\n",
    "                                        statuses['paging']['next']))\n",
    "            else:\n",
    "                has_next_page = False\n",
    "\n",
    "\n",
    "        print(\"\\nDone!\\n%s Statuses Processed in %s\" % \\\n",
    "            (num_processed, datetime.datetime.now() - scrape_starttime))\n",
    "\n"
   ]
  },
  {
   "cell_type": "code",
   "execution_count": null,
   "metadata": {
    "collapsed": false
   },
   "outputs": [
    {
     "name": "stdout",
     "output_type": "stream",
     "text": [
      "Scraping 172177269650835 Facebook Page: 2017-07-24 14:55:22.395556\n",
      "\n",
      "https://graph.facebook.com/172177269650835/feed/?fields=from,message,link,created_time,type,name,id,reactions.limit(500).summary(true),comments.limit(500).summary(true),shares&limit=10&access_token=1192796350809849|585a729a44bb655f2cd6ef954e191a79\n",
      "100 Statuses Processed: 2017-07-24 14:56:36.572367\n",
      "200 Statuses Processed: 2017-07-24 14:58:07.766397\n",
      "300 Statuses Processed: 2017-07-24 14:59:30.756895\n",
      "400 Statuses Processed: 2017-07-24 15:00:48.000467\n",
      "500 Statuses Processed: 2017-07-24 15:01:43.946646\n",
      "600 Statuses Processed: 2017-07-24 15:03:13.832363\n",
      "700 Statuses Processed: 2017-07-24 15:04:29.548836\n",
      "800 Statuses Processed: 2017-07-24 15:06:02.550571\n"
     ]
    }
   ],
   "source": [
    "    scrape_fb_group_status(group_id, access_token)"
   ]
  },
  {
   "cell_type": "code",
   "execution_count": null,
   "metadata": {
    "collapsed": true
   },
   "outputs": [],
   "source": []
  },
  {
   "cell_type": "code",
   "execution_count": null,
   "metadata": {
    "collapsed": true
   },
   "outputs": [],
   "source": [
    "abc = 4"
   ]
  },
  {
   "cell_type": "code",
   "execution_count": null,
   "metadata": {
    "collapsed": true
   },
   "outputs": [],
   "source": []
  }
 ],
 "metadata": {
  "anaconda-cloud": {},
  "kernelspec": {
   "display_name": "Python [conda root]",
   "language": "python",
   "name": "conda-root-py"
  },
  "language_info": {
   "codemirror_mode": {
    "name": "ipython",
    "version": 3
   },
   "file_extension": ".py",
   "mimetype": "text/x-python",
   "name": "python",
   "nbconvert_exporter": "python",
   "pygments_lexer": "ipython3",
   "version": "3.5.2"
  }
 },
 "nbformat": 4,
 "nbformat_minor": 1
}
