{
 "cells": [
  {
   "cell_type": "markdown",
   "metadata": {},
   "source": [
    "### DRY - Dont Repeat Yourself\n",
    "\n",
    "এইটা ইফিসিয়েন্ট প্রোগ্রামিং এর মূলমন্ত্র! এমনিতে পাইথন আমরা ডাটা, ফাইল, টেক্সট, URL এইসব এক্সপ্লোর করার মতো ডাইনামিক কাজে ব্যবহার করতে পারি। কিন্তু, এইসব ডাইনামিক কাজ যদি বার বার লিখা লাগে তাহলে তো ঝামেলা। ব্যপারটা অনেকটা টাইপরাইটারে টাইপ করে লিখার মতো হয়ে গেলো। একটা প্রোগ্রামিং ল্যাঙ্গুয়েজ এইসব কোড লিখে, রিইউজ করার রাস্তাটাই হচ্ছে Dont Repeat Yourself - DRY. তো পাইথনে আমরা এইসব রিইউজ করার রাস্তা শিখবো ফাংশন শিখার মাধ্যমে। "
   ]
  },
  {
   "cell_type": "markdown",
   "metadata": {},
   "source": [
    "#### Functions\n",
    "<ul>\n",
    "<li> Functions\n",
    "<ul>\n",
    "    <li>ফাংশন ডিফাইন করা </li>\n",
    "    <li> রিটার্ন ভ্যালু</li> \n",
    "    <li> Docstrings </li>\n",
    "    <li> </li>\n",
    "    <li></li>\n",
    "    <li> </li>\n",
    "    <li> </li>\n",
    "</ul></li>\n",
    "</ul>"
   ]
  },
  {
   "cell_type": "markdown",
   "metadata": {},
   "source": []
  }
 ],
 "metadata": {
  "anaconda-cloud": {},
  "kernelspec": {
   "display_name": "Python [conda root]",
   "language": "python",
   "name": "conda-root-py"
  },
  "language_info": {
   "codemirror_mode": {
    "name": "ipython",
    "version": 3
   },
   "file_extension": ".py",
   "mimetype": "text/x-python",
   "name": "python",
   "nbconvert_exporter": "python",
   "pygments_lexer": "ipython3",
   "version": "3.5.2"
  }
 },
 "nbformat": 4,
 "nbformat_minor": 1
}
